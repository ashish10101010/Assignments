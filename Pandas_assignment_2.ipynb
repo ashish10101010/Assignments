{
  "nbformat": 4,
  "nbformat_minor": 0,
  "metadata": {
    "colab": {
      "provenance": []
    },
    "kernelspec": {
      "name": "python3",
      "display_name": "Python 3"
    },
    "language_info": {
      "name": "python"
    }
  },
  "cells": [
    {
      "cell_type": "markdown",
      "source": [
        "#Pandas assignment_2"
      ],
      "metadata": {
        "id": "MM_t4_LBwTCi"
      }
    },
    {
      "cell_type": "code",
      "execution_count": 1,
      "metadata": {
        "colab": {
          "base_uri": "https://localhost:8080/"
        },
        "id": "luKB8TkbwR6N",
        "outputId": "3e456028-c250-4bed-a2e7-bb9b7139ddd6"
      },
      "outputs": [
        {
          "output_type": "stream",
          "name": "stdout",
          "text": [
            "   A  B\n",
            "0  1  6\n",
            "1  2  7\n",
            "2  3  8\n"
          ]
        }
      ],
      "source": [
        "# Q1. List any five functions of the pandas library with execution.\n",
        "\n",
        "# head(): Returns the first n rows of the DataFrame.\n",
        "import pandas as pd\n",
        "\n",
        "data = {'A': [1, 2, 3, 4, 5], 'B': [6, 7, 8, 9, 10]}\n",
        "df = pd.DataFrame(data)\n",
        "print(df.head(3))\n"
      ]
    },
    {
      "cell_type": "code",
      "source": [
        "# tail(): Returns the last n rows of the DataFrame\n",
        "print(df.tail(2))\n"
      ],
      "metadata": {
        "colab": {
          "base_uri": "https://localhost:8080/"
        },
        "id": "L8f09xzQwsAd",
        "outputId": "ad980faa-b9df-4963-b4b5-51f410e6d43a"
      },
      "execution_count": 2,
      "outputs": [
        {
          "output_type": "stream",
          "name": "stdout",
          "text": [
            "   A   B\n",
            "3  4   9\n",
            "4  5  10\n"
          ]
        }
      ]
    },
    {
      "cell_type": "code",
      "source": [
        "#describe(): Generates descriptive statistics\n",
        "print(df.describe())\n"
      ],
      "metadata": {
        "colab": {
          "base_uri": "https://localhost:8080/"
        },
        "id": "RgyJUufVwv7P",
        "outputId": "1bde943c-966e-48a5-adbe-e6633b870f3f"
      },
      "execution_count": 3,
      "outputs": [
        {
          "output_type": "stream",
          "name": "stdout",
          "text": [
            "              A          B\n",
            "count  5.000000   5.000000\n",
            "mean   3.000000   8.000000\n",
            "std    1.581139   1.581139\n",
            "min    1.000000   6.000000\n",
            "25%    2.000000   7.000000\n",
            "50%    3.000000   8.000000\n",
            "75%    4.000000   9.000000\n",
            "max    5.000000  10.000000\n"
          ]
        }
      ]
    },
    {
      "cell_type": "code",
      "source": [
        "#info(): Provides a concise summary of the DataFrame\n",
        "print(df.info())\n"
      ],
      "metadata": {
        "colab": {
          "base_uri": "https://localhost:8080/"
        },
        "id": "E5xRW-uzwxOV",
        "outputId": "dcc9b81b-fa5d-430e-a751-67526cd5583e"
      },
      "execution_count": 4,
      "outputs": [
        {
          "output_type": "stream",
          "name": "stdout",
          "text": [
            "<class 'pandas.core.frame.DataFrame'>\n",
            "RangeIndex: 5 entries, 0 to 4\n",
            "Data columns (total 2 columns):\n",
            " #   Column  Non-Null Count  Dtype\n",
            "---  ------  --------------  -----\n",
            " 0   A       5 non-null      int64\n",
            " 1   B       5 non-null      int64\n",
            "dtypes: int64(2)\n",
            "memory usage: 208.0 bytes\n",
            "None\n"
          ]
        }
      ]
    },
    {
      "cell_type": "code",
      "source": [
        "#drop(): Drops specified labels from rows or columns\n",
        "df_dropped = df.drop(['A'], axis=1)\n",
        "print(df_dropped)\n"
      ],
      "metadata": {
        "colab": {
          "base_uri": "https://localhost:8080/"
        },
        "id": "ewkhpIVEwxaA",
        "outputId": "ec7f338e-4102-497c-e687-ccd87b0e7432"
      },
      "execution_count": 5,
      "outputs": [
        {
          "output_type": "stream",
          "name": "stdout",
          "text": [
            "    B\n",
            "0   6\n",
            "1   7\n",
            "2   8\n",
            "3   9\n",
            "4  10\n"
          ]
        }
      ]
    },
    {
      "cell_type": "code",
      "source": [
        "# Q2. Re-index the DataFrame with a new index that starts from 1 and increments by 2 for each row\n",
        "def reindex_dataframe(df):\n",
        "    new_index = range(1, 2*len(df) + 1, 2)\n",
        "    df.index = new_index\n",
        "    return df\n",
        "\n",
        "data = {'A': [1, 2, 3], 'B': [4, 5, 6], 'C': [7, 8, 9]}\n",
        "df = pd.DataFrame(data)\n",
        "df_reindexed = reindex_dataframe(df)\n",
        "print(df_reindexed)\n"
      ],
      "metadata": {
        "colab": {
          "base_uri": "https://localhost:8080/"
        },
        "id": "sGwh-euew_pG",
        "outputId": "d3b09c70-9f44-4871-a563-44f82b0eb63d"
      },
      "execution_count": 6,
      "outputs": [
        {
          "output_type": "stream",
          "name": "stdout",
          "text": [
            "   A  B  C\n",
            "1  1  4  7\n",
            "3  2  5  8\n",
            "5  3  6  9\n"
          ]
        }
      ]
    },
    {
      "cell_type": "code",
      "source": [
        "#Q3. Calculate the sum of the first three values in the 'Values' column\n",
        "def sum_first_three(df):\n",
        "    sum_values = df['Values'].head(3).sum()\n",
        "    print(sum_values)\n",
        "\n",
        "data = {'Values': [10, 20, 30, 40, 50]}\n",
        "df = pd.DataFrame(data)\n",
        "sum_first_three(df)\n"
      ],
      "metadata": {
        "colab": {
          "base_uri": "https://localhost:8080/"
        },
        "id": "lcGCu2tlxF6w",
        "outputId": "655e549a-6582-48b1-a965-798cf0b2c7c8"
      },
      "execution_count": 7,
      "outputs": [
        {
          "output_type": "stream",
          "name": "stdout",
          "text": [
            "60\n"
          ]
        }
      ]
    },
    {
      "cell_type": "code",
      "source": [
        "#Q4. Create a new column 'Word_Count' that contains the number of words in each row of the 'Text' column.\n",
        "def add_word_count(df):\n",
        "    df['Word_Count'] = df['Text'].apply(lambda x: len(str(x).split()))\n",
        "    return df\n",
        "\n",
        "data = {'Text': ['Hello world', 'Pandas is great', 'Python programming']}\n",
        "df = pd.DataFrame(data)\n",
        "df = add_word_count(df)\n",
        "print(df)\n"
      ],
      "metadata": {
        "colab": {
          "base_uri": "https://localhost:8080/"
        },
        "id": "WBupIT3KxKuD",
        "outputId": "ac14b3e7-ff77-4000-8c1b-3acbcf409575"
      },
      "execution_count": 8,
      "outputs": [
        {
          "output_type": "stream",
          "name": "stdout",
          "text": [
            "                 Text  Word_Count\n",
            "0         Hello world           2\n",
            "1     Pandas is great           3\n",
            "2  Python programming           2\n"
          ]
        }
      ]
    },
    {
      "cell_type": "code",
      "source": [
        "# #Q5. How are DataFrame.size() and DataFrame.shape() different?\n",
        "# DataFrame.size: Returns the number of elements in the DataFrame (rows * columns).\n",
        "# DataFrame.shape: Returns a tuple representing the dimensionality of the DataFrame (rows, columns)\n",
        "data = {'A': [1, 2, 3], 'B': [4, 5, 6]}\n",
        "df = pd.DataFrame(data)\n",
        "print(f\"Size: {df.size}\")\n",
        "print(f\"Shape: {df.shape}\")\n"
      ],
      "metadata": {
        "colab": {
          "base_uri": "https://localhost:8080/"
        },
        "id": "DuIztW-MxQmf",
        "outputId": "4deb4fd8-4109-451f-fac1-865313f59821"
      },
      "execution_count": 9,
      "outputs": [
        {
          "output_type": "stream",
          "name": "stdout",
          "text": [
            "Size: 6\n",
            "Shape: (3, 2)\n"
          ]
        }
      ]
    },
    {
      "cell_type": "code",
      "source": [
        "#Q6. Which function of pandas do we use to read an excel file\n",
        "# Use the read_excel() function\n",
        "\n",
        "#df = pd.read_excel('file.xlsx')\n"
      ],
      "metadata": {
        "id": "wtcNVhSCxX6U"
      },
      "execution_count": 11,
      "outputs": []
    },
    {
      "cell_type": "code",
      "source": [
        "# Q7. Create a new column 'Username' that contains only the username part of each email address.\n",
        "def extract_username(df):\n",
        "    df['Username'] = df['Email'].apply(lambda x: x.split('@')[0])\n",
        "    return df\n",
        "\n",
        "data = {'Email': ['john.doe@example.com', 'jane.doe@example.com']}\n",
        "df = pd.DataFrame(data)\n",
        "df = extract_username(df)\n",
        "print(df)\n"
      ],
      "metadata": {
        "colab": {
          "base_uri": "https://localhost:8080/"
        },
        "id": "YgGJUUZoxibi",
        "outputId": "605bb505-54fb-466e-f17f-6b716da71f76"
      },
      "execution_count": 12,
      "outputs": [
        {
          "output_type": "stream",
          "name": "stdout",
          "text": [
            "                  Email  Username\n",
            "0  john.doe@example.com  john.doe\n",
            "1  jane.doe@example.com  jane.doe\n"
          ]
        }
      ]
    },
    {
      "cell_type": "code",
      "source": [
        "# Q8. Select all rows where the value in column 'A' is greater than 5 and the value in column 'B' is less than 10\n",
        "def select_rows(df):\n",
        "    return df[(df['A'] > 5) & (df['B'] < 10)]\n",
        "\n",
        "data = {'A': [3, 8, 6, 2, 9], 'B': [5, 2, 9, 3, 1], 'C': [1, 7, 4, 5, 2]}\n",
        "df = pd.DataFrame(data)\n",
        "selected_df = select_rows(df)\n",
        "print(selected_df)\n"
      ],
      "metadata": {
        "colab": {
          "base_uri": "https://localhost:8080/"
        },
        "id": "e4OPdbBXxs6P",
        "outputId": "7c689fda-1391-4f55-9f23-80475b4e081b"
      },
      "execution_count": 13,
      "outputs": [
        {
          "output_type": "stream",
          "name": "stdout",
          "text": [
            "   A  B  C\n",
            "1  8  2  7\n",
            "2  6  9  4\n",
            "4  9  1  2\n"
          ]
        }
      ]
    },
    {
      "cell_type": "code",
      "source": [
        "#Q9. Calculate the mean, median, and standard deviation of the values in the 'Values' column\n",
        "def calculate_stats(df):\n",
        "    mean_value = df['Values'].mean()\n",
        "    median_value = df['Values'].median()\n",
        "    std_dev = df['Values'].std()\n",
        "    return mean_value, median_value, std_dev\n",
        "\n",
        "data = {'Values': [10, 20, 30, 40, 50]}\n",
        "df = pd.DataFrame(data)\n",
        "mean_value, median_value, std_dev = calculate_stats(df)\n",
        "print(f\"Mean: {mean_value}, Median: {median_value}, Standard Deviation: {std_dev}\")\n"
      ],
      "metadata": {
        "colab": {
          "base_uri": "https://localhost:8080/"
        },
        "id": "5n_Pkxlxxy7b",
        "outputId": "b715ba66-6bb9-4fe7-a603-bb228947ed25"
      },
      "execution_count": 14,
      "outputs": [
        {
          "output_type": "stream",
          "name": "stdout",
          "text": [
            "Mean: 30.0, Median: 30.0, Standard Deviation: 15.811388300841896\n"
          ]
        }
      ]
    },
    {
      "cell_type": "code",
      "source": [
        "#Q10. Create a new column 'MovingAverage' that contains the moving average of the sales for the past 7 days\n",
        "def add_moving_average(df):\n",
        "    df['MovingAverage'] = df['Sales'].rolling(window=7).mean()\n",
        "    return df\n",
        "\n",
        "data = {'Sales': [100, 200, 150, 300, 400, 250, 500, 450, 350, 200], 'Date': pd.date_range(start='2023-01-01', periods=10)}\n",
        "df = pd.DataFrame(data)\n",
        "df = add_moving_average(df)\n",
        "print(df)\n"
      ],
      "metadata": {
        "colab": {
          "base_uri": "https://localhost:8080/"
        },
        "id": "bPM4wCPmx5Kt",
        "outputId": "31db6a14-a1bb-4d01-c06d-7ecba9b5c487"
      },
      "execution_count": 15,
      "outputs": [
        {
          "output_type": "stream",
          "name": "stdout",
          "text": [
            "   Sales       Date  MovingAverage\n",
            "0    100 2023-01-01            NaN\n",
            "1    200 2023-01-02            NaN\n",
            "2    150 2023-01-03            NaN\n",
            "3    300 2023-01-04            NaN\n",
            "4    400 2023-01-05            NaN\n",
            "5    250 2023-01-06            NaN\n",
            "6    500 2023-01-07     271.428571\n",
            "7    450 2023-01-08     321.428571\n",
            "8    350 2023-01-09     342.857143\n",
            "9    200 2023-01-10     350.000000\n"
          ]
        }
      ]
    },
    {
      "cell_type": "code",
      "source": [
        "#Q11. Create a new column 'Weekday' that contains the weekday name corresponding to each date in the 'Date' column\n",
        "def add_weekday(df):\n",
        "    df['Weekday'] = pd.to_datetime(df['Date']).dt.day_name()\n",
        "    return df\n",
        "\n",
        "data = {'Date': pd.date_range(start='2023-01-01', periods=5)}\n",
        "df = pd.DataFrame(data)\n",
        "df = add_weekday(df)\n",
        "print(df)\n"
      ],
      "metadata": {
        "colab": {
          "base_uri": "https://localhost:8080/"
        },
        "id": "0hOzrxK-x9ne",
        "outputId": "4faa195d-2517-4c99-c81e-1d6b4f67319e"
      },
      "execution_count": 16,
      "outputs": [
        {
          "output_type": "stream",
          "name": "stdout",
          "text": [
            "        Date    Weekday\n",
            "0 2023-01-01     Sunday\n",
            "1 2023-01-02     Monday\n",
            "2 2023-01-03    Tuesday\n",
            "3 2023-01-04  Wednesday\n",
            "4 2023-01-05   Thursday\n"
          ]
        }
      ]
    },
    {
      "cell_type": "code",
      "source": [],
      "metadata": {
        "id": "JMSYByvoyCj-"
      },
      "execution_count": null,
      "outputs": []
    }
  ]
}