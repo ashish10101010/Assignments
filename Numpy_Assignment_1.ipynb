{
  "nbformat": 4,
  "nbformat_minor": 0,
  "metadata": {
    "colab": {
      "provenance": []
    },
    "kernelspec": {
      "name": "python3",
      "display_name": "Python 3"
    },
    "language_info": {
      "name": "python"
    }
  },
  "cells": [
    {
      "cell_type": "markdown",
      "source": [
        "#Numpy Assignment_1"
      ],
      "metadata": {
        "id": "l_dLa49v69xE"
      }
    },
    {
      "cell_type": "code",
      "execution_count": 1,
      "metadata": {
        "id": "j0SenbYm6nqO"
      },
      "outputs": [],
      "source": [
        "import numpy as np\n",
        "\n",
        "list_ = ['1', '2', '3', '4', '5']\n",
        "array_list = np.array(object=list_)\n"
      ]
    },
    {
      "cell_type": "code",
      "source": [
        "#Q1. Is there any difference in the data type of variables list_ and array_list? If there is then write a code to print the data types of both the variables\n",
        "\n",
        "print(\"Data type of list_:\", type(list_))\n",
        "print(\"Data type of array_list:\", type(array_list))\n"
      ],
      "metadata": {
        "colab": {
          "base_uri": "https://localhost:8080/"
        },
        "id": "sjBlVvBF6vj5",
        "outputId": "4d427c63-5255-4aa0-f9c9-4cdaa90fa41e"
      },
      "execution_count": 2,
      "outputs": [
        {
          "output_type": "stream",
          "name": "stdout",
          "text": [
            "Data type of list_: <class 'list'>\n",
            "Data type of array_list: <class 'numpy.ndarray'>\n"
          ]
        }
      ]
    },
    {
      "cell_type": "code",
      "source": [
        "#Q2. Write a code to print the data type of each and every element of both the variables list_ and array_list.\n",
        "\n",
        "print(\"Data types of each element in list_:\")\n",
        "for element in list_:\n",
        "    print(type(element))\n",
        "\n",
        "print(\"Data types of each element in array_list:\")\n",
        "for element in array_list:\n",
        "    print(type(element))\n"
      ],
      "metadata": {
        "colab": {
          "base_uri": "https://localhost:8080/"
        },
        "id": "dnko3dPd7R6x",
        "outputId": "0490fef5-78c6-43e0-c1a1-3bafcb9a49ff"
      },
      "execution_count": 3,
      "outputs": [
        {
          "output_type": "stream",
          "name": "stdout",
          "text": [
            "Data types of each element in list_:\n",
            "<class 'str'>\n",
            "<class 'str'>\n",
            "<class 'str'>\n",
            "<class 'str'>\n",
            "<class 'str'>\n",
            "Data types of each element in array_list:\n",
            "<class 'numpy.str_'>\n",
            "<class 'numpy.str_'>\n",
            "<class 'numpy.str_'>\n",
            "<class 'numpy.str_'>\n",
            "<class 'numpy.str_'>\n"
          ]
        }
      ]
    },
    {
      "cell_type": "code",
      "source": [
        "# Q3. Considering the following changes in the variable, array_list: array_list = np.array(object = list_, dtype = int). Will there be any difference in the data type of the elements present in both the variables, list_ and array_list?\n",
        "# If so then print the data types of each and every element present in both the variables, list_ and array_list.\n",
        "# After converting array_list to an integer type, the elements of array_list will be of type int, while the elements of list_ will remain as strings\n",
        "# Q3\n",
        "array_list = np.array(object=list_, dtype=int)\n",
        "\n",
        "print(\"Data types of each element in list_:\")\n",
        "for element in list_:\n",
        "    print(type(element))\n",
        "\n",
        "print(\"Data types of each element in array_list:\")\n",
        "for element in array_list:\n",
        "    print(type(element))\n"
      ],
      "metadata": {
        "colab": {
          "base_uri": "https://localhost:8080/"
        },
        "id": "60V8j2JD7bpv",
        "outputId": "2b64d350-2d77-4571-ed83-eab7e0e1bf15"
      },
      "execution_count": 4,
      "outputs": [
        {
          "output_type": "stream",
          "name": "stdout",
          "text": [
            "Data types of each element in list_:\n",
            "<class 'str'>\n",
            "<class 'str'>\n",
            "<class 'str'>\n",
            "<class 'str'>\n",
            "<class 'str'>\n",
            "Data types of each element in array_list:\n",
            "<class 'numpy.int64'>\n",
            "<class 'numpy.int64'>\n",
            "<class 'numpy.int64'>\n",
            "<class 'numpy.int64'>\n",
            "<class 'numpy.int64'>\n"
          ]
        }
      ]
    },
    {
      "cell_type": "code",
      "source": [
        "# Q4. Write a code to find the following characteristics of variable, num_array:\n",
        "# (i) shape\n",
        "# (ii) size\n",
        "# Q4\n",
        "print(\"Shape of num_array:\", num_array.shape)\n",
        "print(\"Size of num_array:\", num_array.size)"
      ],
      "metadata": {
        "id": "Py4ndPHR7y-4"
      },
      "execution_count": null,
      "outputs": []
    },
    {
      "cell_type": "code",
      "source": [
        "# Q5. Write a code to create numpy array of 3x3 matrix containing zeros only, using a numpy array creation function.\n",
        "# Q5\n",
        "zero_matrix = np.zeros((3, 3))\n",
        "print(\"3x3 matrix containing zeros only:\\n\", zero_matrix)\n"
      ],
      "metadata": {
        "colab": {
          "base_uri": "https://localhost:8080/"
        },
        "id": "Ooi9MjuQ75Nw",
        "outputId": "4d49f78a-44cc-4959-9ad9-b561182f46b2"
      },
      "execution_count": 6,
      "outputs": [
        {
          "output_type": "stream",
          "name": "stdout",
          "text": [
            "3x3 matrix containing zeros only:\n",
            " [[0. 0. 0.]\n",
            " [0. 0. 0.]\n",
            " [0. 0. 0.]]\n"
          ]
        }
      ]
    },
    {
      "cell_type": "code",
      "source": [
        "#Q6. Create an identity matrix of shape (5,5) using numpy functions\n",
        "# Q6\n",
        "identity_matrix = np.eye(5)\n",
        "print(\"Identity matrix of shape (5,5):\\n\", identity_matrix)\n"
      ],
      "metadata": {
        "colab": {
          "base_uri": "https://localhost:8080/"
        },
        "id": "g9Ud1ilt75X0",
        "outputId": "ae8cc22c-0d38-4d40-d424-098a22cd5aa4"
      },
      "execution_count": 7,
      "outputs": [
        {
          "output_type": "stream",
          "name": "stdout",
          "text": [
            "Identity matrix of shape (5,5):\n",
            " [[1. 0. 0. 0. 0.]\n",
            " [0. 1. 0. 0. 0.]\n",
            " [0. 0. 1. 0. 0.]\n",
            " [0. 0. 0. 1. 0.]\n",
            " [0. 0. 0. 0. 1.]]\n"
          ]
        }
      ]
    },
    {
      "cell_type": "code",
      "source": [],
      "metadata": {
        "id": "y3uOI1Iz75iF"
      },
      "execution_count": null,
      "outputs": []
    }
  ]
}