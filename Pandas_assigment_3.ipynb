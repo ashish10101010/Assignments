{
  "nbformat": 4,
  "nbformat_minor": 0,
  "metadata": {
    "colab": {
      "provenance": []
    },
    "kernelspec": {
      "name": "python3",
      "display_name": "Python 3"
    },
    "language_info": {
      "name": "python"
    }
  },
  "cells": [
    {
      "cell_type": "markdown",
      "source": [
        "#Pandas assignment_3"
      ],
      "metadata": {
        "id": "tWujxFtmyYIh"
      }
    },
    {
      "cell_type": "code",
      "source": [
        "#Consider following code to answer further questions:\n",
        "import pandas as pd\n",
        "course_name = ['Data Science', 'Machine Learning', 'Big Data', 'Data Engineer']\n",
        "duration = [2,3,6,4]\n",
        "df = pd.DataFrame(data = {'course_name' : course_name, 'duration' : duration})"
      ],
      "metadata": {
        "id": "St3RGP3Gz3GK"
      },
      "execution_count": 4,
      "outputs": []
    },
    {
      "cell_type": "code",
      "source": [
        "# Q1. Write a code to print the data present in the second row of the dataframe\n",
        "import pandas as pd\n",
        "\n",
        "course_name = ['Data Science', 'Machine Learning', 'Big Data', 'Data Engineer']\n",
        "duration = [2, 3, 6, 4]\n",
        "df = pd.DataFrame(data={'course_name': course_name, 'duration': duration})\n",
        "\n",
        "# Q1\n",
        "print(df.iloc[1])\n"
      ],
      "metadata": {
        "colab": {
          "base_uri": "https://localhost:8080/"
        },
        "id": "H8EJqV120NI8",
        "outputId": "fa260713-17a3-49e3-ca16-8d0542c91f5e"
      },
      "execution_count": 5,
      "outputs": [
        {
          "output_type": "stream",
          "name": "stdout",
          "text": [
            "course_name    Machine Learning\n",
            "duration                      3\n",
            "Name: 1, dtype: object\n"
          ]
        }
      ]
    },
    {
      "cell_type": "code",
      "source": [
        "# Q2. What is the difference between the functions loc and iloc in pandas.DataFrame?\n",
        "# loc: Accesses a group of rows and columns by labels or a boolean array. It includes the endpoint.\n",
        "# iloc: Accesses a group of rows and columns by integer position (from 0 to length-1 of the axis). It excludes the endpoint.\n",
        "# loc example (label-based)\n",
        "print(df.loc[1])\n",
        "\n",
        "# iloc example (integer position-based)\n",
        "print(df.iloc[1])\n"
      ],
      "metadata": {
        "colab": {
          "base_uri": "https://localhost:8080/"
        },
        "id": "5D4Tjw880sYp",
        "outputId": "3aa18964-a5d7-4753-8cf1-7715a0e30515"
      },
      "execution_count": 6,
      "outputs": [
        {
          "output_type": "stream",
          "name": "stdout",
          "text": [
            "course_name    Machine Learning\n",
            "duration                      3\n",
            "Name: 1, dtype: object\n",
            "course_name    Machine Learning\n",
            "duration                      3\n",
            "Name: 1, dtype: object\n"
          ]
        }
      ]
    },
    {
      "cell_type": "code",
      "source": [
        "# Q3. Reindex the given dataframe using a variable, reindex = [3, 0, 1, 2] and store it in the variable, new_df then find the output for both new_df.loc[2] and new_df.iloc[2]\n",
        "reindex = [3, 0, 1, 2]\n",
        "new_df = df.reindex(reindex)\n",
        "\n",
        "# Output for new_df.loc[2]\n",
        "print(new_df.loc[2])\n",
        "\n",
        "# Output for new_df.iloc[2]\n",
        "print(new_df.iloc[2])\n"
      ],
      "metadata": {
        "colab": {
          "base_uri": "https://localhost:8080/"
        },
        "id": "3qX6ubhd01Ej",
        "outputId": "2937f618-a27c-4dbe-ec65-84398493d59c"
      },
      "execution_count": 7,
      "outputs": [
        {
          "output_type": "stream",
          "name": "stdout",
          "text": [
            "course_name    Big Data\n",
            "duration              6\n",
            "Name: 2, dtype: object\n",
            "course_name    Machine Learning\n",
            "duration                      3\n",
            "Name: 1, dtype: object\n"
          ]
        }
      ]
    },
    {
      "cell_type": "code",
      "source": [
        "# Q4. Write a code to find the following statistical measurements for the above dataframe df1:\n",
        "# (i) Mean of each and every column present in the dataframe.\n",
        "# (ii) Standard deviation of column, 'column_2'\n",
        "import numpy as np\n",
        "columns = ['column_1', 'column_2', 'column_3', 'column_4', 'column_5', 'column_6']\n",
        "indices = [1, 2, 3, 4, 5, 6]\n",
        "df1 = pd.DataFrame(np.random.rand(6, 6), columns=columns, index=indices)\n",
        "\n",
        "# (i) Mean of each column\n",
        "print(df1.mean())\n",
        "\n",
        "# (ii) Standard deviation of column_2\n",
        "print(df1['column_2'].std())\n"
      ],
      "metadata": {
        "colab": {
          "base_uri": "https://localhost:8080/"
        },
        "id": "RRFhe6Et0_Xo",
        "outputId": "6ad8e786-583b-477e-a09f-5786bc7c0608"
      },
      "execution_count": 9,
      "outputs": [
        {
          "output_type": "stream",
          "name": "stdout",
          "text": [
            "column_1    0.487632\n",
            "column_2    0.582545\n",
            "column_3    0.563654\n",
            "column_4    0.500605\n",
            "column_5    0.598300\n",
            "column_6    0.498826\n",
            "dtype: float64\n",
            "0.24009473517451216\n"
          ]
        }
      ]
    },
    {
      "cell_type": "code",
      "source": [
        "# Q5. Replace the data present in the second row of column, 'column_2' by a string variable then find the mean of column, column_2.\n",
        "# Replacing second row of 'column_2' with a string\n",
        "df1.loc[2, 'column_2'] = 'string_value'\n",
        "\n",
        "# Trying to find the mean\n",
        "try:\n",
        "    print(df1['column_2'].mean())\n",
        "except Exception as e:\n",
        "    print(f\"Error: {e}\")\n"
      ],
      "metadata": {
        "colab": {
          "base_uri": "https://localhost:8080/"
        },
        "id": "Zbtuur7f1FAb",
        "outputId": "36a6df3b-1445-48ca-c97f-7fb5272ed525"
      },
      "execution_count": 10,
      "outputs": [
        {
          "output_type": "stream",
          "name": "stdout",
          "text": [
            "Error: unsupported operand type(s) for +: 'float' and 'str'\n"
          ]
        }
      ]
    },
    {
      "cell_type": "code",
      "source": [
        "# Q6. What do you understand about the windows function in pandas and list the types of windows functions?\n",
        "# Windows functions in pandas are used to perform operations on a rolling window of fixed size over data.\n",
        "# They help in statistical and analytical operations over a subset of data.\n",
        "\n",
        "# Types of window functions:\n",
        "\n",
        "# Rolling window: rolling()\n",
        "# Expanding window: expanding()\n",
        "# Exponentially weighted window: ewm()"
      ],
      "metadata": {
        "id": "exuo6_B61QBH"
      },
      "execution_count": 11,
      "outputs": []
    },
    {
      "cell_type": "code",
      "source": [
        "# Q7. Write a code to print only the current month and year at the time of answering this question.\n",
        "import pandas as pd\n",
        "from datetime import datetime\n",
        "\n",
        "now = datetime.now()\n",
        "current_month_year = now.strftime(\"%Y-%m\")\n",
        "print(current_month_year)\n"
      ],
      "metadata": {
        "colab": {
          "base_uri": "https://localhost:8080/"
        },
        "id": "-ckazxfL1Xo3",
        "outputId": "e16bb5da-5f89-4dd2-d541-4d0be56e2447"
      },
      "execution_count": 12,
      "outputs": [
        {
          "output_type": "stream",
          "name": "stdout",
          "text": [
            "2024-06\n"
          ]
        }
      ]
    },
    {
      "cell_type": "code",
      "source": [
        "# Q8. Write a Python program that takes in two dates as input (in the format YYYY-MM-DD) and calculates the difference between them in days, hours, and minutes using Pandas time delta.\n",
        "def calculate_date_difference(date1_str, date2_str):\n",
        "    date1 = pd.to_datetime(date1_str)\n",
        "    date2 = pd.to_datetime(date2_str)\n",
        "    delta = date2 - date1\n",
        "\n",
        "    days = delta.days\n",
        "    seconds = delta.seconds\n",
        "    hours = seconds // 3600\n",
        "    minutes = (seconds % 3600) // 60\n",
        "\n",
        "    return days, hours, minutes\n",
        "\n",
        "date1_str = input(\"Enter the first date (YYYY-MM-DD): \")\n",
        "date2_str = input(\"Enter the second date (YYYY-MM-DD): \")\n",
        "days, hours, minutes = calculate_date_difference(date1_str, date2_str)\n",
        "print(f\"Difference: {days} days, {hours} hours, and {minutes} minutes\")"
      ],
      "metadata": {
        "id": "Lj8x7byG1nY-"
      },
      "execution_count": null,
      "outputs": []
    },
    {
      "cell_type": "code",
      "source": [
        "# Q9. Write a Python program that reads a CSV file containing categorical data and converts a specified column to a categorical data type.\n",
        "# The program should prompt the user to enter the file path, column name, and category order, and then display the sorted data.\n",
        "def convert_to_categorical():\n",
        "    file_path = input(\"Enter the file path: \")\n",
        "    column_name = input(\"Enter the column name: \")\n",
        "    category_order = input(\"Enter the category order (comma-separated): \").split(',')\n",
        "\n",
        "    df = pd.read_csv(file_path)\n",
        "    df[column_name] = pd.Categorical(df[column_name], categories=category_order, ordered=True)\n",
        "    sorted_df = df.sort_values(by=column_name)\n",
        "    print(sorted_df)\n",
        "\n",
        "convert_to_categorical()\n"
      ],
      "metadata": {
        "id": "U7Eddw6Z13xS"
      },
      "execution_count": null,
      "outputs": []
    },
    {
      "cell_type": "code",
      "source": [
        "# Q10. Write a Python program that reads a CSV file containing sales data for different products and visualizes the data using a stacked bar chart to show the sales of each product category over time.\n",
        "import matplotlib.pyplot as plt\n",
        "\n",
        "def visualize_sales_data():\n",
        "    file_path = input(\"Enter the file path: \")\n",
        "\n",
        "    df = pd.read_csv(file_path)\n",
        "    df['Date'] = pd.to_datetime(df['Date'])\n",
        "    df.set_index('Date', inplace=True)\n",
        "\n",
        "    sales_data = df.groupby([df.index, 'Product_Category']).sum().unstack().fillna(0)\n",
        "\n",
        "    sales_data.plot(kind='bar', stacked=True)\n",
        "    plt.xlabel('Date')\n"
      ],
      "metadata": {
        "id": "_YA7HYY318Sp"
      },
      "execution_count": null,
      "outputs": []
    },
    {
      "cell_type": "code",
      "source": [
        "#Q11. Write a Python program that reads a CSV file containing student data and calculates the mean, median, and mode of the test scores, and displays the results in a table.\n",
        "# Q11\n",
        "from statistics import mode\n",
        "\n",
        "def calculate_statistics(file_path):\n",
        "    df = pd.read_csv(file_path)\n",
        "    mean_value = df['Test Score'].mean()\n",
        "    median_value = df['Test Score'].median()\n",
        "    mode_value = mode(df['Test Score'])\n",
        "\n",
        "    result_df = pd.DataFrame({\n",
        "        'Statistic': ['Mean', 'Median', 'Mode'],\n",
        "        'Value': [mean_value, median_value, mode_value]\n",
        "    })\n",
        "    print(result_df)\n",
        "\n",
        "file_path = input(\"Enter the file path of the CSV file containing the student data: \")\n",
        "calculate_statistics(file_path)\n"
      ],
      "metadata": {
        "id": "0d9g-haI18fj"
      },
      "execution_count": null,
      "outputs": []
    },
    {
      "cell_type": "code",
      "source": [
        "# Q12. Given a Pandas DataFrame df with a column 'Date' that contains timestamps, write a Python function to select all rows where the date is between '2023-01-01' and '2023-01-31'.\n",
        "# Q12\n",
        "def select_date_range(df):\n",
        "    df['Date'] = pd.to_datetime(df['Date'])\n",
        "    return df[(df['Date'] >= '2023-01-01') & (df['Date'] <= '2023-01-31')]\n",
        "\n",
        "data = {'Date': pd.date_range(start='2022-12-28', periods=10), 'Value': range(10)}\n",
        "df = pd.DataFrame(data)\n",
        "df_filtered = select_date_range(df)\n",
        "print(df_filtered)\n"
      ],
      "metadata": {
        "id": "ZE08wc-R23Zc"
      },
      "execution_count": null,
      "outputs": []
    },
    {
      "cell_type": "code",
      "source": [
        "#Q13. To use the basic functions of pandas, what is the first and foremost necessary library that needs to be imported?\n",
        "import pandas as pd\n"
      ],
      "metadata": {
        "id": "1UA5B5H62-MO"
      },
      "execution_count": null,
      "outputs": []
    }
  ]
}